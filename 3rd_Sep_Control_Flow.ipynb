{
 "cells": [
  {
   "cell_type": "markdown",
   "id": "9d6a3b01-62da-4196-9b77-8a554a8fbeb9",
   "metadata": {},
   "source": [
    "#### Basic If-Else Statements:"
   ]
  },
  {
   "cell_type": "code",
   "execution_count": 2,
   "id": "e24fbac8-9db9-4bb9-bbf8-1f20b3ae8cb6",
   "metadata": {},
   "outputs": [
    {
     "name": "stdin",
     "output_type": "stream",
     "text": [
      "Enter a number:  -9\n"
     ]
    },
    {
     "name": "stdout",
     "output_type": "stream",
     "text": [
      "-9 is negative\n"
     ]
    }
   ],
   "source": [
    "#1. Write a Python program to check if a given number is positive or negative.\n",
    "\n",
    "n = int(input(\"Enter a number: \"))\n",
    "if n > 0:\n",
    "    print(n,\"is positive\")\n",
    "elif n<0:\n",
    "    print(n,\"is negative\")"
   ]
  },
  {
   "cell_type": "code",
   "execution_count": 3,
   "id": "7740f884-3d37-4c31-a27f-9c5aabb08e08",
   "metadata": {},
   "outputs": [
    {
     "name": "stdin",
     "output_type": "stream",
     "text": [
      "Enter age:  23\n"
     ]
    },
    {
     "name": "stdout",
     "output_type": "stream",
     "text": [
      "You are eligible to vote\n"
     ]
    }
   ],
   "source": [
    "#2. Create a program that determines if a person is eligible to vote based on their age.\n",
    "\n",
    "age = int(input(\"Enter age: \"))\n",
    "if age>=18:\n",
    "    print(\"You are eligible to vote\")\n",
    "else:\n",
    "    print(\"You are not eligible to vote\")"
   ]
  },
  {
   "cell_type": "code",
   "execution_count": 4,
   "id": "171b3ff5-2a03-41dd-acde-6fe70b43a1a0",
   "metadata": {},
   "outputs": [
    {
     "name": "stdin",
     "output_type": "stream",
     "text": [
      "Enter first number:  23\n",
      "Enter second number:  55\n"
     ]
    },
    {
     "name": "stdout",
     "output_type": "stream",
     "text": [
      "Maximum Number:  55\n"
     ]
    }
   ],
   "source": [
    "#3. Develop a program to find the maximum of two numbers using if-else statements.\n",
    "\n",
    "num1 = int(input(\"Enter first number: \"))\n",
    "num2 = int(input(\"Enter second number: \"))\n",
    "if num1>num2:\n",
    "    print(\"Maximum Number: \",num1)\n",
    "else:\n",
    "    print(\"Maximum Number: \",num2)"
   ]
  },
  {
   "cell_type": "code",
   "execution_count": 42,
   "id": "6e133838-37f7-495a-b838-f67fb3ef54ff",
   "metadata": {},
   "outputs": [
    {
     "name": "stdin",
     "output_type": "stream",
     "text": [
      "Enter a year:  9088\n"
     ]
    },
    {
     "name": "stdout",
     "output_type": "stream",
     "text": [
      "9088 is a leap year\n"
     ]
    }
   ],
   "source": [
    "#4. Write a Python script to classify a given year as a leap year or not.\n",
    "\n",
    "year =  int(input(\"Enter a year: \"))\n",
    "if ((year%4==0) and (year%400==0)) or (year%100!=0):\n",
    "    print(year,\"is a leap year\")\n",
    "else:\n",
    "    print(year,\"is not a leap year\")"
   ]
  },
  {
   "cell_type": "code",
   "execution_count": 11,
   "id": "b12dda6e-58f8-47f6-822f-bfdc7db393b2",
   "metadata": {},
   "outputs": [
    {
     "name": "stdin",
     "output_type": "stream",
     "text": [
      "Enter a character:  E\n"
     ]
    },
    {
     "name": "stdout",
     "output_type": "stream",
     "text": [
      "E is a vowel\n"
     ]
    }
   ],
   "source": [
    "#5. Create a program that checks whether a character is a vowel or a consonant.\n",
    "\n",
    "ch = input(\"Enter a character: \")\n",
    "vowels = ['a','e','i','o','u','A','E','I','O','U']\n",
    "if ch in vowels:\n",
    "    print(ch,\"is a vowel\")\n",
    "else:\n",
    "    print(ch,\"is not a vowel\")"
   ]
  },
  {
   "cell_type": "code",
   "execution_count": 12,
   "id": "1c727c63-042e-4b4e-8691-55012510391e",
   "metadata": {},
   "outputs": [
    {
     "name": "stdin",
     "output_type": "stream",
     "text": [
      "Enter a number:  23\n"
     ]
    },
    {
     "name": "stdout",
     "output_type": "stream",
     "text": [
      "23 is odd\n"
     ]
    }
   ],
   "source": [
    "#6. Implement a program to determine whether a given number is even or odd.\n",
    "\n",
    "n = int(input(\"Enter a number: \"))\n",
    "if n%2== 0:\n",
    "    print(n,\"is even\")\n",
    "else:\n",
    "    print(n,\"is odd\")"
   ]
  },
  {
   "cell_type": "code",
   "execution_count": 15,
   "id": "4de10f9e-f0aa-400b-802d-83bc9dda8089",
   "metadata": {},
   "outputs": [
    {
     "name": "stdin",
     "output_type": "stream",
     "text": [
      "Enter a number:  -98\n"
     ]
    },
    {
     "name": "stdout",
     "output_type": "stream",
     "text": [
      "Absolute value:  98\n"
     ]
    }
   ],
   "source": [
    "#7. Write a Python function to calculate the absolute value of a number without using the `abs()` function.\n",
    "\n",
    "n = int(input(\"Enter a number: \"))\n",
    "if n<0:\n",
    "    print(\"Absolute value: \",n*-1)\n",
    "else:\n",
    "    print(\"Absolute value: \",n)"
   ]
  },
  {
   "cell_type": "code",
   "execution_count": 5,
   "id": "d2933d4c-ebb4-45d6-99b2-852d4f60ceb0",
   "metadata": {},
   "outputs": [
    {
     "name": "stdin",
     "output_type": "stream",
     "text": [
      "Enter first number:  45\n",
      "Enter second number:  0\n",
      "Enter third number:  99\n"
     ]
    },
    {
     "name": "stdout",
     "output_type": "stream",
     "text": [
      "Largest number:  99\n"
     ]
    }
   ],
   "source": [
    "#8. Develop a program that determines the largest of three given numbers using if-else statements.\n",
    "\n",
    "num1 = int(input(\"Enter first number: \"))\n",
    "num2 = int(input(\"Enter second number: \"))\n",
    "num3 = int(input(\"Enter third number: \"))\n",
    "\n",
    "if num1>num2:\n",
    "    if num1>num3:\n",
    "        print(\"Largest number: \",num1)\n",
    "    else:\n",
    "        print(\"Largest number: \",num3)\n",
    "else:\n",
    "    if num2>num1:\n",
    "        if num2>num3:\n",
    "            print(\"Largest number: \",num2)\n",
    "        else:\n",
    "            print(\"Largest number: \",num3)"
   ]
  },
  {
   "cell_type": "code",
   "execution_count": 19,
   "id": "da55f7db-5a5c-4cfa-b6d0-082bd51a86ed",
   "metadata": {},
   "outputs": [
    {
     "name": "stdin",
     "output_type": "stream",
     "text": [
      "Enter a string:  Madam\n"
     ]
    },
    {
     "name": "stdout",
     "output_type": "stream",
     "text": [
      "Palindrome String\n"
     ]
    }
   ],
   "source": [
    "#9. Create a program that checks if a given string is a palindrome.\n",
    "\n",
    "s = input(\"Enter a string: \")\n",
    "if s.lower() == s[::-1].lower():\n",
    "    print(\"Palindrome String\")\n",
    "else:\n",
    "    print(\"Not a palindrome string\")"
   ]
  },
  {
   "cell_type": "code",
   "execution_count": 2,
   "id": "e4e94e65-88e3-4fc1-b999-14dcbc7bafa4",
   "metadata": {},
   "outputs": [
    {
     "name": "stdin",
     "output_type": "stream",
     "text": [
      "Enter Student's Score:  75\n"
     ]
    },
    {
     "name": "stdout",
     "output_type": "stream",
     "text": [
      "Your grade is:  B\n"
     ]
    }
   ],
   "source": [
    "#10. Write a Python program to calculate the grade based on a student's score.\n",
    "\n",
    "score = int(input(\"Enter Student's Score: \"))\n",
    "if score>=90 and score<=100:\n",
    "    grade = 'A+'\n",
    "elif score>=80 and score<90:\n",
    "    grade = 'A'\n",
    "elif score>=70 and score<80:\n",
    "    grade='B'\n",
    "elif score>=60 and score<70:\n",
    "    grade = 'C'\n",
    "elif score>=40 and score<60:\n",
    "    grade = 'D'\n",
    "elif score<40 and score>=0:\n",
    "    grade = 'F'\n",
    "elif score>100 or score<0:\n",
    "    grade='Invalid Score'\n",
    "print(\"Your grade is: \",grade)"
   ]
  },
  {
   "cell_type": "markdown",
   "id": "aefba5de-f7a3-4aa8-affc-baa8c5bcad1f",
   "metadata": {},
   "source": [
    "#### Nested If-Else Statements:"
   ]
  },
  {
   "cell_type": "code",
   "execution_count": 3,
   "id": "8d15c2c1-6f95-4328-b4db-aa5dd5dcff61",
   "metadata": {},
   "outputs": [
    {
     "name": "stdin",
     "output_type": "stream",
     "text": [
      "Enter first number:  43\n",
      "Enter second number:  53\n",
      "Enter third number:  77\n"
     ]
    },
    {
     "name": "stdout",
     "output_type": "stream",
     "text": [
      "Largest Number:  77\n"
     ]
    }
   ],
   "source": [
    "#11. Write a program to find the largest among three numbers using nested if-else statements.\n",
    "\n",
    "num1 = int(input(\"Enter first number: \"))\n",
    "num2 = int(input(\"Enter second number: \"))\n",
    "num3 = int(input(\"Enter third number: \"))\n",
    "\n",
    "if num1>num2 and num1>num3:\n",
    "    print(\"Largest Number: \",num1)\n",
    "elif num2>num1 and num2>num3:\n",
    "    print(\"Largest Number: \",num2)\n",
    "else:\n",
    "    print(\"Largest Number: \",num3)"
   ]
  },
  {
   "cell_type": "code",
   "execution_count": 9,
   "id": "288dc885-f6be-4085-8595-4078584d012c",
   "metadata": {},
   "outputs": [
    {
     "name": "stdin",
     "output_type": "stream",
     "text": [
      "Enter side 1 of triangle:  12\n",
      "Enter side 2 of triangle:  34\n",
      "Enter side 3 of triangle:  12\n"
     ]
    },
    {
     "name": "stdout",
     "output_type": "stream",
     "text": [
      "Isosceles triangle\n"
     ]
    }
   ],
   "source": [
    "#12. Implement a program to determine if a triangle is equilateral, isosceles, or scalene.\n",
    "\n",
    "s1 = int(input(\"Enter side 1 of triangle: \"))\n",
    "s2 = int(input(\"Enter side 2 of triangle: \"))\n",
    "s3 = int(input(\"Enter side 3 of triangle: \"))\n",
    "\n",
    "if s1==s2 and s2==s3:\n",
    "    print(\"Equilateral triangle\")\n",
    "elif s1==s2 or s2==s3 or s3==s1:\n",
    "    print(\"Isosceles triangle\")\n",
    "else:\n",
    "    print(\"Scalene triangle\")"
   ]
  },
  {
   "cell_type": "code",
   "execution_count": 41,
   "id": "97a81995-a8b4-4dce-88ee-dd2fc7ef7987",
   "metadata": {},
   "outputs": [
    {
     "name": "stdin",
     "output_type": "stream",
     "text": [
      "Enter a year:  1996\n"
     ]
    },
    {
     "name": "stdout",
     "output_type": "stream",
     "text": [
      "1996 is a leap year and not a century year\n"
     ]
    }
   ],
   "source": [
    "#13. Develop a program that checks if a year is a leap year and also if it is a century year.\n",
    "\n",
    "year =  int(input(\"Enter a year: \"))\n",
    "if ((year%4==0) and (year%400==0)) or (year%100!=0):\n",
    "    if year%100==0:\n",
    "        print(year,\"is a leap year and a century year\")\n",
    "    else:\n",
    "        print(year,\"is a leap year and not a century year\")\n",
    "else:\n",
    "    if year%100==0:\n",
    "        print(year,\"is not a leap year and a century year\")\n",
    "    else:\n",
    "        print(year,\"is not a leap year and is not a century year\")"
   ]
  },
  {
   "cell_type": "code",
   "execution_count": 16,
   "id": "ecd266e8-dd56-4215-9f58-43b5d877e232",
   "metadata": {},
   "outputs": [
    {
     "name": "stdin",
     "output_type": "stream",
     "text": [
      "Enter a number:  0\n"
     ]
    },
    {
     "name": "stdout",
     "output_type": "stream",
     "text": [
      "Zero\n"
     ]
    }
   ],
   "source": [
    "#14. Write a Python script to determine if a number is positive, negative, or zero.\n",
    "\n",
    "num = int(input(\"Enter a number: \"))\n",
    "if num==0:\n",
    "    print(\"Zero\")\n",
    "elif num>0:\n",
    "    print(\"Positive\")\n",
    "else:\n",
    "    print(\"Negative\")"
   ]
  },
  {
   "cell_type": "code",
   "execution_count": 18,
   "id": "9f5d740a-b965-4e3b-ac15-7f5e48dead14",
   "metadata": {},
   "outputs": [
    {
     "name": "stdin",
     "output_type": "stream",
     "text": [
      "Enter age:  15\n"
     ]
    },
    {
     "name": "stdout",
     "output_type": "stream",
     "text": [
      "Teenager\n"
     ]
    }
   ],
   "source": [
    "#15. Create a program to check if a person is a teenager (between 13 and 19 years old).\n",
    "\n",
    "age = int(input(\"Enter age: \"))\n",
    "if age>=13 and age<=19:\n",
    "    print(\"Teenager\")\n",
    "else:\n",
    "    print(\"Not teenager\")"
   ]
  },
  {
   "cell_type": "code",
   "execution_count": 23,
   "id": "30001d87-e37f-4486-a301-a019d799126d",
   "metadata": {},
   "outputs": [
    {
     "name": "stdin",
     "output_type": "stream",
     "text": [
      "Enter angle of triangle:  45\n"
     ]
    },
    {
     "name": "stdout",
     "output_type": "stream",
     "text": [
      "Acute angle\n"
     ]
    }
   ],
   "source": [
    "#16. Develop a program that determines the type of angle based on its measure (acute, obtuse, or right).\n",
    "\n",
    "angle = int(input(\"Enter angle of triangle: \"))\n",
    "if angle <0 or angle>180:\n",
    "    print(\"Invalid angle\")\n",
    "elif angle == 90:\n",
    "    print(\"Right angle\")\n",
    "elif angle<90:\n",
    "    print(\"Acute angle\")\n",
    "else:\n",
    "    print(\"Obtuse angle\")"
   ]
  },
  {
   "cell_type": "code",
   "execution_count": 28,
   "id": "e618e368-a1d1-4380-a660-9a81c3df3616",
   "metadata": {},
   "outputs": [
    {
     "name": "stdin",
     "output_type": "stream",
     "text": [
      "Enter the coefficient a:  1\n",
      "Enter the coefficient b:  2\n",
      "Enter the coefficient c: 3\n"
     ]
    },
    {
     "name": "stdout",
     "output_type": "stream",
     "text": [
      "The roots are complex:  -1.0 + 1.4142135623730951 i and -1.0 - 1.4142135623730951 i\n"
     ]
    }
   ],
   "source": [
    "#17. Write a Python program to calculate the roots of a quadratic equation.\n",
    "\n",
    "import math\n",
    "\n",
    "a = float(input(\"Enter the coefficient a: \"))\n",
    "b = float(input(\"Enter the coefficient b: \"))\n",
    "c = float(input(\"Enter the coefficient c:\"))\n",
    "\n",
    "dis = b**b-4*a*c\n",
    "\n",
    "if dis > 0:\n",
    "    root1 = (-b + math.sqrt(dis)) / (2*a)\n",
    "    root2 = (-b - math.sqrt(dis)) / (2*a)\n",
    "    print(\"The roots are real and distinct:\",root1,\"and\",root2)\n",
    "elif dis==0:\n",
    "    root = -b / (2*a)\n",
    "    print(\"The root is real and repeated: \",root)\n",
    "else:\n",
    "    real_part = -b / (2*a)\n",
    "    imaginary_part = math.sqrt(-dis) / (2*a)\n",
    "    print(\"The roots are complex: \",real_part,\"+\",imaginary_part,\"i\",\"and\",real_part,\"-\",imaginary_part,\"i\")"
   ]
  },
  {
   "cell_type": "code",
   "execution_count": 32,
   "id": "00c51f32-56b9-41d8-ba3c-3d9e603e641e",
   "metadata": {},
   "outputs": [
    {
     "name": "stdin",
     "output_type": "stream",
     "text": [
      "Enter number:  3\n"
     ]
    },
    {
     "name": "stdout",
     "output_type": "stream",
     "text": [
      "Wednesday\n"
     ]
    }
   ],
   "source": [
    "#18. Implement a program to determine the day of the week based on a user-provided number (1 for Monday, 2 for Tuesday, etc.).\n",
    "\n",
    "days = ['Monday','Tuesday','Wednesday','Thursday','Friday','Saturday','Sunday']\n",
    "number = int(input(\"Enter number: \"))\n",
    "if number>=1 and number<=7:\n",
    "    print(days[number-1])\n",
    "else:\n",
    "    print(\"Invalid number\")   "
   ]
  },
  {
   "cell_type": "code",
   "execution_count": 40,
   "id": "b5bba6f1-906a-4f03-81e3-83b280f46168",
   "metadata": {},
   "outputs": [
    {
     "name": "stdin",
     "output_type": "stream",
     "text": [
      "Enter a year:  2024\n"
     ]
    },
    {
     "name": "stdout",
     "output_type": "stream",
     "text": [
      "2024 is a leap year and not divisible by 400\n"
     ]
    }
   ],
   "source": [
    "#19. Create a program that determines if a year is a leap year and also if it is evenly divisible by 400.\n",
    "\n",
    "year =  int(input(\"Enter a year: \"))\n",
    "if ((year%4==0) and (year%400==0)) or (year%100!=0):\n",
    "    if year%400==0:\n",
    "        print(year,\"is a leap year and divisible by 400\")\n",
    "    else:\n",
    "        print(year,\"is a leap year and not divisible by 400\")\n",
    "else:\n",
    "    if year%400==0:\n",
    "        print(year,\"is not a leap year and is divisible by 400\")\n",
    "    else:\n",
    "        print(year,\"is not a leap year and is not ivisible by 400\")"
   ]
  },
  {
   "cell_type": "code",
   "execution_count": 49,
   "id": "3c90ed76-6bd0-45c6-9076-7dd995ecbe3c",
   "metadata": {},
   "outputs": [
    {
     "name": "stdin",
     "output_type": "stream",
     "text": [
      "Enter a number:  19\n"
     ]
    },
    {
     "name": "stdout",
     "output_type": "stream",
     "text": [
      "19 is a prime number\n"
     ]
    }
   ],
   "source": [
    "#20. Develop a program that checks if a given number is prime or not using nested if-else statements.\n",
    "\n",
    "n = int(input(\"Enter a number: \"))\n",
    "if n==1:\n",
    "    print(n,\"is neither prime nor composite\")\n",
    "else:\n",
    "    f=1\n",
    "    ctr=0\n",
    "    for f in range(1,n+1):\n",
    "        if n%f==0:\n",
    "            ctr+=1\n",
    "    if ctr==2:\n",
    "        print(n,\"is a prime number\")\n",
    "    else:\n",
    "        print(n,\"is not a prime number\")"
   ]
  },
  {
   "cell_type": "markdown",
   "id": "1d731320-3321-4e1e-ac11-bde921f983ba",
   "metadata": {},
   "source": [
    "#### Elif Statements:"
   ]
  },
  {
   "cell_type": "code",
   "execution_count": 50,
   "id": "c61f4a26-fe30-4435-9b66-091af5569f03",
   "metadata": {},
   "outputs": [
    {
     "name": "stdin",
     "output_type": "stream",
     "text": [
      "Enter Student's Score:  89\n"
     ]
    },
    {
     "name": "stdout",
     "output_type": "stream",
     "text": [
      "Your grade is:  A\n"
     ]
    }
   ],
   "source": [
    "#21. Write a Python program to assign grades based on different ranges of scores using elif statements.\n",
    "\n",
    "score = int(input(\"Enter Student's Score: \"))\n",
    "if score>=90 and score<=100:\n",
    "    grade = 'A+'\n",
    "elif score>=80 and score<90:\n",
    "    grade = 'A'\n",
    "elif score>=70 and score<80:\n",
    "    grade='B'\n",
    "elif score>=60 and score<70:\n",
    "    grade = 'C'\n",
    "elif score>=40 and score<60:\n",
    "    grade = 'D'\n",
    "elif score<40 and score>=0:\n",
    "    grade = 'F'\n",
    "elif score>100 or score<0:\n",
    "    grade='Invalid Score'\n",
    "print(\"Your grade is: \",grade)"
   ]
  },
  {
   "cell_type": "code",
   "execution_count": 52,
   "id": "b5848050-32da-4e64-a6c6-0df0428471d4",
   "metadata": {},
   "outputs": [
    {
     "name": "stdin",
     "output_type": "stream",
     "text": [
      "Enter angle 1 of triangle:  45\n",
      "Enter angle 2 of triangle:  45\n",
      "Enter angle 3 of triangle:  90\n"
     ]
    },
    {
     "name": "stdout",
     "output_type": "stream",
     "text": [
      "Isosceles triangle\n"
     ]
    }
   ],
   "source": [
    "#22. Implement a program to determine the type of a triangle based on its angles.\n",
    "\n",
    "s1 = int(input(\"Enter angle 1 of triangle: \"))\n",
    "s2 = int(input(\"Enter angle 2 of triangle: \"))\n",
    "s3 = int(input(\"Enter angle 3 of triangle: \"))\n",
    "\n",
    "if s1+s2+s3 == 180:\n",
    "    if s1==s2 and s2==s3:\n",
    "        print(\"Equilateral triangle\")\n",
    "    elif s1==s2 or s2==s3 or s3==s1:\n",
    "        print(\"Isosceles triangle\")\n",
    "    else:\n",
    "        print(\"Scalene triangle\")\n",
    "else:\n",
    "    print(\"Invalid input! Sum of angles of a triangle has to be 180 degree\")"
   ]
  },
  {
   "cell_type": "code",
   "execution_count": 7,
   "id": "35090bbb-1633-4b9d-9640-aaf903414fec",
   "metadata": {},
   "outputs": [
    {
     "name": "stdin",
     "output_type": "stream",
     "text": [
      "Enter weight in kgs:  70\n",
      "Enter height in sq m:  1.8\n"
     ]
    },
    {
     "name": "stdout",
     "output_type": "stream",
     "text": [
      "Healthy\n"
     ]
    }
   ],
   "source": [
    "#23. Develop a program to categorize a given person's BMI into underweight, normal, overweight, or obese using elif statements.\n",
    "\n",
    "weight = float(input(\"Enter weight in kgs: \"))\n",
    "height = float(input(\"Enter height in sq m: \"))\n",
    "bmi=weight/height**2\n",
    "if bmi<18.5:\n",
    "    print(\"Underweight\")\n",
    "elif bmi>=18.5 and bmi<25:\n",
    "    print(\"Healthy\")\n",
    "elif bmi>=25 and bmi<30:\n",
    "    print(\"Overweight\")\n",
    "elif bmi>=30:\n",
    "    print(\"Obesity\")"
   ]
  },
  {
   "cell_type": "code",
   "execution_count": 8,
   "id": "5ca5f32f-d653-4e96-a63c-d2c6fe6b87ad",
   "metadata": {},
   "outputs": [
    {
     "name": "stdin",
     "output_type": "stream",
     "text": [
      "Enter a number:  5\n"
     ]
    },
    {
     "name": "stdout",
     "output_type": "stream",
     "text": [
      "Positive\n"
     ]
    }
   ],
   "source": [
    "#24. Create a program that determines whether a given number is positive, negative, or zero using elif statements.\n",
    "\n",
    "num = int(input(\"Enter a number: \"))\n",
    "if num==0:\n",
    "    print(\"Zero\")\n",
    "elif num>0:\n",
    "    print(\"Positive\")\n",
    "else:\n",
    "    print(\"Negative\")"
   ]
  },
  {
   "cell_type": "code",
   "execution_count": 12,
   "id": "644bc3e5-a87d-4e9f-8ef3-72324a374df6",
   "metadata": {},
   "outputs": [
    {
     "name": "stdin",
     "output_type": "stream",
     "text": [
      "Enter a character:  A\n"
     ]
    },
    {
     "name": "stdout",
     "output_type": "stream",
     "text": [
      "Uppercase\n"
     ]
    }
   ],
   "source": [
    "#25. Write a Python script to determine the type of a character (uppercase, lowercase, or special) using elif statements.\n",
    "\n",
    "char = input(\"Enter a character: \")\n",
    "if char>='A' and char<='Z':\n",
    "    print(\"Uppercase\")\n",
    "elif char>='a' and char<='z':\n",
    "    print(\"Lowercase\")\n",
    "else:\n",
    "    print(\"Special\")"
   ]
  },
  {
   "cell_type": "code",
   "execution_count": 16,
   "id": "9f2f0ffd-2d3b-44b4-90bc-29ccb33171b4",
   "metadata": {},
   "outputs": [
    {
     "name": "stdin",
     "output_type": "stream",
     "text": [
      "Enter purchase amount:  10000\n"
     ]
    },
    {
     "name": "stdout",
     "output_type": "stream",
     "text": [
      "Bill Amount:  8000.0\n"
     ]
    }
   ],
   "source": [
    "#26. Implement a program to calculate the discounted price based on different purchase amounts using elif statements.\n",
    "\n",
    "pa = float(input(\"Enter purchase amount: \"))\n",
    "if pa>3000:\n",
    "    if pa<=5000:\n",
    "        pa = pa-(0.15*pa)\n",
    "    elif pa>5000 and pa<=10000:\n",
    "        pa = pa-(0.2*pa)\n",
    "    elif pa>10000:\n",
    "        pa=pa-(0.25*pa)\n",
    "else:\n",
    "    pass\n",
    "print(\"Bill Amount: \",pa)"
   ]
  },
  {
   "cell_type": "code",
   "execution_count": 19,
   "id": "3952fedf-a8cc-48f0-9232-a0bd6930b42e",
   "metadata": {},
   "outputs": [
    {
     "name": "stdin",
     "output_type": "stream",
     "text": [
      "Please enter Number of Units you Consumed :  500\n"
     ]
    },
    {
     "name": "stdout",
     "output_type": "stream",
     "text": [
      "Electricity Bill = 3428.50\n"
     ]
    }
   ],
   "source": [
    "#27. Develop a program to calculate the electricity bill based on different consumption slabs using elif statements.\n",
    "\n",
    " \n",
    "units = float(input(\"Please enter Number of Units you Consumed : \"))\n",
    "\n",
    "if(units < 50):\n",
    "    amount = units * 2.60\n",
    "    surcharge = 25\n",
    "elif(units>50 and units <= 100):\n",
    "    amount = 50*2.6 + ((units - 50) * 3.25)\n",
    "    surcharge = 35\n",
    "elif(units>100 and units <= 200):\n",
    "    amount = 50*2.6 + 50*3.25 + ((units - 100) * 5.26)\n",
    "    surcharge = 45\n",
    "else:\n",
    "    amount = 50*2.6 + 50*3.25 + 100*5.26 + ((units - 200) * 8.45)\n",
    "    surcharge = 75\n",
    "\n",
    "total = amount + surcharge\n",
    "print(\"Electricity Bill = %.2f\" %total)"
   ]
  },
  {
   "cell_type": "code",
   "execution_count": 21,
   "id": "375e9696-fd38-41fc-a428-a4ce24e0c5c2",
   "metadata": {},
   "outputs": [
    {
     "name": "stdin",
     "output_type": "stream",
     "text": [
      "Enter side a:  12\n",
      "Enter side b:  16\n",
      "Enter side c:  12\n",
      "Enter side d:  15\n",
      "Enter angle A:  90\n",
      "Enter angle B:  90\n",
      "Enter angle C:  90\n",
      "Enter angle D:  90\n"
     ]
    },
    {
     "name": "stdout",
     "output_type": "stream",
     "text": [
      "Trapezoid\n"
     ]
    }
   ],
   "source": [
    "#28. Create a program to determine the type of quadrilateral based on its angles and sides using elif statements.\n",
    "\n",
    "a = float(input(\"Enter side a: \"))\n",
    "b = float(input(\"Enter side b: \"))\n",
    "c = float(input(\"Enter side c: \"))\n",
    "d = float(input(\"Enter side d: \"))\n",
    "A = float(input(\"Enter angle A: \"))\n",
    "B = float(input(\"Enter angle B: \"))\n",
    "C = float(input(\"Enter angle C: \"))\n",
    "D = float(input(\"Enter angle D: \"))\n",
    "\n",
    "if A + B + C + D == 360:\n",
    "    if a == b == c == d:\n",
    "        if A == B == C == D == 90:\n",
    "            print(\"Square\")\n",
    "        elif A == C and B == D:\n",
    "            print(\"Rectangle\")\n",
    "        else:\n",
    "            print(\"Quadrilateral\")\n",
    "    elif a == c and b == d:\n",
    "        if A == B == C == D == 90:\n",
    "            print(\"Rhombus\")\n",
    "        else:\n",
    "            print(\"Parallelogram\")\n",
    "    elif (a == c and b != d) or (a != c and b == d):\n",
    "        if A == B == C == D == 90:\n",
    "            print(\"Trapezoid\")\n",
    "        else:\n",
    "            print(\"Quadrilateral\")\n",
    "    else:\n",
    "        print(\"Quadrilateral\")\n",
    "else:\n",
    "    print(\"Invalid Quadrilateral\")"
   ]
  },
  {
   "cell_type": "code",
   "execution_count": 3,
   "id": "115fe848-8f11-47df-ae88-7c8f32e8902d",
   "metadata": {},
   "outputs": [
    {
     "name": "stdin",
     "output_type": "stream",
     "text": [
      "Enter month:  March\n"
     ]
    },
    {
     "name": "stdout",
     "output_type": "stream",
     "text": [
      "Season:  summer\n"
     ]
    }
   ],
   "source": [
    "#29. Write a Python script to determine the season based on a user-provided month using elif statements.\n",
    "\n",
    "month = input(\"Enter month: \")\n",
    "month = month.lower()\n",
    "if month == 'january' or month == 'february' or month == 'december' or month =='november':\n",
    "    season = 'winter'\n",
    "elif month == 'march' or month == 'april' or month =='may' or month == 'june':\n",
    "    season ='summer'\n",
    "else:\n",
    "    season = 'rainy'\n",
    "print(\"Season: \",season)"
   ]
  },
  {
   "cell_type": "code",
   "execution_count": 9,
   "id": "7bd976ee-b89d-413d-81a2-5b88afe0fe56",
   "metadata": {},
   "outputs": [
    {
     "name": "stdin",
     "output_type": "stream",
     "text": [
      "Enter Year:  2023\n",
      "Enter month(1-12):  9\n"
     ]
    },
    {
     "name": "stdout",
     "output_type": "stream",
     "text": [
      "Not a leap year\n",
      "Month 9 has 30 days\n"
     ]
    }
   ],
   "source": [
    "#30. Implement a program to determine the type of a year (leap or common) and month (30 or 31 days) using elif statements.\n",
    "\n",
    "year = int(input(\"Enter Year: \"))\n",
    "month = int(input(\"Enter month(1-12): \"))\n",
    "if (year%4==0 and year%100!=0) or (year%400==0):\n",
    "    print(\"Leap Year\")\n",
    "    if month == 2:\n",
    "        print(n,\"month has 29 days\")\n",
    "else:\n",
    "    print(\"Not a leap year\")\n",
    "    if month ==2:\n",
    "        print(n,\"has 28 days\")\n",
    "if month in [1, 3, 5, 7, 8, 10, 12]:\n",
    "    print(\"Month\",month,\"has 31 days\")\n",
    "elif month in [4,6,9,11]:\n",
    "    print(\"Month\",month,\"has 30 days\")\n",
    "else:\n",
    "    print(\"Invalid Month!\")"
   ]
  },
  {
   "cell_type": "markdown",
   "id": "4d784751-79a0-43ef-863b-746470fc6d1f",
   "metadata": {},
   "source": [
    "#### Basic Level:"
   ]
  },
  {
   "cell_type": "code",
   "execution_count": 10,
   "id": "7ef78092-565c-43ca-b683-a3354840175d",
   "metadata": {},
   "outputs": [
    {
     "name": "stdin",
     "output_type": "stream",
     "text": [
      "Enter a number:  -98\n"
     ]
    },
    {
     "name": "stdout",
     "output_type": "stream",
     "text": [
      "Negative\n"
     ]
    }
   ],
   "source": [
    "#1. Write a Python program that checks if a given number is positive, negative, or zero.\n",
    "\n",
    "num = int(input(\"Enter a number: \"))\n",
    "if num==0:\n",
    "    print(\"Zero\")\n",
    "elif num>0:\n",
    "    print(\"Positive\")\n",
    "else:\n",
    "    print(\"Negative\")"
   ]
  },
  {
   "cell_type": "code",
   "execution_count": 11,
   "id": "fd5662f9-7bae-4bc9-8a3e-fa7e644ffe78",
   "metadata": {},
   "outputs": [
    {
     "name": "stdin",
     "output_type": "stream",
     "text": [
      "Enter age:  28\n"
     ]
    },
    {
     "name": "stdout",
     "output_type": "stream",
     "text": [
      "You are eligible to vote\n"
     ]
    }
   ],
   "source": [
    "#2. Create a program to determine if a person is eligible to vote based on their age.\n",
    "\n",
    "age = int(input(\"Enter age: \"))\n",
    "if age>=18:\n",
    "    print(\"You are eligible to vote\")\n",
    "else:\n",
    "    print(\"You are not eligible to vote\")"
   ]
  },
  {
   "cell_type": "code",
   "execution_count": 12,
   "id": "9ff36450-cddb-42d8-9381-668d6cb6ac09",
   "metadata": {},
   "outputs": [
    {
     "name": "stdin",
     "output_type": "stream",
     "text": [
      "Enter first number:  34\n",
      "Enter second number:  66\n"
     ]
    },
    {
     "name": "stdout",
     "output_type": "stream",
     "text": [
      "Maximum Number:  66\n"
     ]
    }
   ],
   "source": [
    "#3. Write a program to find the maximum of two given numbers using conditional statements.\n",
    "\n",
    "num1 = int(input(\"Enter first number: \"))\n",
    "num2 = int(input(\"Enter second number: \"))\n",
    "if num1>num2:\n",
    "    print(\"Maximum Number: \",num1)\n",
    "else:\n",
    "    print(\"Maximum Number: \",num2)"
   ]
  },
  {
   "cell_type": "code",
   "execution_count": 13,
   "id": "39ec5479-bca2-4750-8fc7-4f35800dd7fc",
   "metadata": {},
   "outputs": [
    {
     "name": "stdin",
     "output_type": "stream",
     "text": [
      "Enter Student's Score:  99\n"
     ]
    },
    {
     "name": "stdout",
     "output_type": "stream",
     "text": [
      "Your grade is:  A+\n"
     ]
    }
   ],
   "source": [
    "#4. Develop a program that calculates the grade of a student based on their exam score.\n",
    "\n",
    "score = int(input(\"Enter Student's Score: \"))\n",
    "if score>=90 and score<=100:\n",
    "    grade = 'A+'\n",
    "elif score>=80 and score<90:\n",
    "    grade = 'A'\n",
    "elif score>=70 and score<80:\n",
    "    grade='B'\n",
    "elif score>=60 and score<70:\n",
    "    grade = 'C'\n",
    "elif score>=40 and score<60:\n",
    "    grade = 'D'\n",
    "elif score<40 and score>=0:\n",
    "    grade = 'F'\n",
    "elif score>100 or score<0:\n",
    "    grade='Invalid Score'\n",
    "print(\"Your grade is: \",grade)"
   ]
  },
  {
   "cell_type": "code",
   "execution_count": 14,
   "id": "ca48fa4d-984e-4d0b-bcd2-2cf67f60c410",
   "metadata": {},
   "outputs": [
    {
     "name": "stdin",
     "output_type": "stream",
     "text": [
      "Enter a year:  1990\n"
     ]
    },
    {
     "name": "stdout",
     "output_type": "stream",
     "text": [
      "1990 is a leap year\n"
     ]
    }
   ],
   "source": [
    "#5. Create a program that checks if a year is a leap year or not.\n",
    "\n",
    "year =  int(input(\"Enter a year: \"))\n",
    "if ((year%4==0) and (year%400==0)) or (year%100!=0):\n",
    "    print(year,\"is a leap year\")\n",
    "else:\n",
    "    print(year,\"is not a leap year\")"
   ]
  },
  {
   "cell_type": "code",
   "execution_count": 15,
   "id": "3a475ee8-194e-4ac8-8184-f261ae7b6525",
   "metadata": {},
   "outputs": [
    {
     "name": "stdin",
     "output_type": "stream",
     "text": [
      "Enter side 1 of triangle:  12\n",
      "Enter side 2 of triangle:  33\n",
      "Enter side 3 of triangle:  12\n"
     ]
    },
    {
     "name": "stdout",
     "output_type": "stream",
     "text": [
      "Isosceles triangle\n"
     ]
    }
   ],
   "source": [
    "#6. Write a program to classify a triangle based on its sides' lengths.\n",
    "\n",
    "s1 = int(input(\"Enter side 1 of triangle: \"))\n",
    "s2 = int(input(\"Enter side 2 of triangle: \"))\n",
    "s3 = int(input(\"Enter side 3 of triangle: \"))\n",
    "\n",
    "if s1==s2 and s2==s3:\n",
    "    print(\"Equilateral triangle\")\n",
    "elif s1==s2 or s2==s3 or s3==s1:\n",
    "    print(\"Isosceles triangle\")\n",
    "else:\n",
    "    print(\"Scalene triangle\")"
   ]
  },
  {
   "cell_type": "code",
   "execution_count": 16,
   "id": "49ebaf1a-cac7-44f5-834c-4bffced28983",
   "metadata": {},
   "outputs": [
    {
     "name": "stdin",
     "output_type": "stream",
     "text": [
      "Enter first number:  12\n",
      "Enter second number:  21\n",
      "Enter third number:  55\n"
     ]
    },
    {
     "name": "stdout",
     "output_type": "stream",
     "text": [
      "Largest number:  55\n"
     ]
    }
   ],
   "source": [
    "#7. Build a program that determines the largest of three given numbers.\n",
    "\n",
    "num1 = int(input(\"Enter first number: \"))\n",
    "num2 = int(input(\"Enter second number: \"))\n",
    "num3 = int(input(\"Enter third number: \"))\n",
    "\n",
    "if num1>num2:\n",
    "    if num1>num3:\n",
    "        print(\"Largest number: \",num1)\n",
    "    else:\n",
    "        print(\"Largest number: \",num3)\n",
    "else:\n",
    "    if num2>num1:\n",
    "        if num2>num3:\n",
    "            print(\"Largest number: \",num2)\n",
    "        else:\n",
    "            print(\"Largest number: \",num3)"
   ]
  },
  {
   "cell_type": "code",
   "execution_count": 17,
   "id": "2d0ec259-a196-4a42-8c26-ccd8d3606e03",
   "metadata": {},
   "outputs": [
    {
     "name": "stdin",
     "output_type": "stream",
     "text": [
      "Enter a character:  A\n"
     ]
    },
    {
     "name": "stdout",
     "output_type": "stream",
     "text": [
      "A is a vowel\n"
     ]
    }
   ],
   "source": [
    "#8. Develop a program that checks whether a character is a vowel or a consonant.\n",
    "\n",
    "ch = input(\"Enter a character: \")\n",
    "vowels = ['a','e','i','o','u','A','E','I','O','U']\n",
    "if ch in vowels:\n",
    "    print(ch,\"is a vowel\")\n",
    "else:\n",
    "    print(ch,\"is not a vowel\")"
   ]
  },
  {
   "cell_type": "code",
   "execution_count": 18,
   "id": "8d34d82b-5ce6-42a9-80e2-5241ebd15332",
   "metadata": {},
   "outputs": [
    {
     "name": "stdin",
     "output_type": "stream",
     "text": [
      "Enter cart amount:  12000\n"
     ]
    },
    {
     "name": "stdout",
     "output_type": "stream",
     "text": [
      "Total Cost:  9000.0\n"
     ]
    }
   ],
   "source": [
    "#9. Create a program to calculate the total cost of a shopping cart based on discounts.\n",
    "\n",
    "pa = float(input(\"Enter cart amount: \"))\n",
    "if pa>3000:\n",
    "    if pa<=5000:\n",
    "        pa = pa-(0.15*pa)\n",
    "    elif pa>5000 and pa<=10000:\n",
    "        pa = pa-(0.2*pa)\n",
    "    elif pa>10000:\n",
    "        pa=pa-(0.25*pa)\n",
    "else:\n",
    "    pass\n",
    "print(\"Total Cost: \",pa)"
   ]
  },
  {
   "cell_type": "code",
   "execution_count": 19,
   "id": "5cb33347-3d3c-4d08-8ca0-44444ecead3f",
   "metadata": {},
   "outputs": [
    {
     "name": "stdin",
     "output_type": "stream",
     "text": [
      "Enter a number:  23\n"
     ]
    },
    {
     "name": "stdout",
     "output_type": "stream",
     "text": [
      "23 is odd\n"
     ]
    }
   ],
   "source": [
    "#10. Write a program that checks if a given number is even or odd.\n",
    "\n",
    "n = int(input(\"Enter a number: \"))\n",
    "if n%2== 0:\n",
    "    print(n,\"is even\")\n",
    "else:\n",
    "    print(n,\"is odd\")"
   ]
  },
  {
   "cell_type": "markdown",
   "id": "9bb093a6-2874-4869-835c-f15f7ba11061",
   "metadata": {},
   "source": [
    "#### Intermediate Level:"
   ]
  },
  {
   "cell_type": "code",
   "execution_count": 20,
   "id": "a4dbfe52-7550-4f7e-bab9-9865f5d995b2",
   "metadata": {},
   "outputs": [
    {
     "name": "stdin",
     "output_type": "stream",
     "text": [
      "Enter the coefficient a:  4\n",
      "Enter the coefficient b:  5\n",
      "Enter the coefficient c: 6\n"
     ]
    },
    {
     "name": "stdout",
     "output_type": "stream",
     "text": [
      "The roots are real and distinct: 6.254543952908507 and -7.504543952908507\n"
     ]
    }
   ],
   "source": [
    "#11. Write a program that calculates the roots of a quadratic equation.\n",
    "\n",
    "import math\n",
    "\n",
    "a = float(input(\"Enter the coefficient a: \"))\n",
    "b = float(input(\"Enter the coefficient b: \"))\n",
    "c = float(input(\"Enter the coefficient c:\"))\n",
    "\n",
    "dis = b**b-4*a*c\n",
    "\n",
    "if dis > 0:\n",
    "    root1 = (-b + math.sqrt(dis)) / (2*a)\n",
    "    root2 = (-b - math.sqrt(dis)) / (2*a)\n",
    "    print(\"The roots are real and distinct:\",root1,\"and\",root2)\n",
    "elif dis==0:\n",
    "    root = -b / (2*a)\n",
    "    print(\"The root is real and repeated: \",root)\n",
    "else:\n",
    "    real_part = -b / (2*a)\n",
    "    imaginary_part = math.sqrt(-dis) / (2*a)\n",
    "    print(\"The roots are complex: \",real_part,\"+\",imaginary_part,\"i\",\"and\",real_part,\"-\",imaginary_part,\"i\")"
   ]
  },
  {
   "cell_type": "code",
   "execution_count": 22,
   "id": "88bdfbc3-3a08-49a2-a194-fe012411e685",
   "metadata": {},
   "outputs": [
    {
     "name": "stdin",
     "output_type": "stream",
     "text": [
      "Enter day number (1-7):  5\n"
     ]
    },
    {
     "name": "stdout",
     "output_type": "stream",
     "text": [
      "Friday\n"
     ]
    }
   ],
   "source": [
    "#12. Create a program that determines the day of the week based on the day number (1-7).\n",
    "\n",
    "day_number = int(input(\"Enter day number (1-7): \"))\n",
    "if day_number == 1:\n",
    "    print(\"Monday\")\n",
    "elif day_number == 2:\n",
    "    print(\"Tuesday\")\n",
    "elif day_number == 3:\n",
    "    print(\"Wednesday\")\n",
    "elif day_number == 4:\n",
    "    print(\"Thursday\")\n",
    "elif day_number == 5:\n",
    "    print(\"Friday\")\n",
    "elif day_number == 6:\n",
    "    print(\"Saturday\")\n",
    "elif day_number == 7:\n",
    "    print(\"Sunday\")\n",
    "else:\n",
    "    print(\"Invalid day number\")"
   ]
  },
  {
   "cell_type": "code",
   "execution_count": 23,
   "id": "4082f4b4-1d7b-4598-b3f1-ba02990817a8",
   "metadata": {},
   "outputs": [
    {
     "name": "stdin",
     "output_type": "stream",
     "text": [
      "Enter a non-negative integer:  5\n"
     ]
    },
    {
     "name": "stdout",
     "output_type": "stream",
     "text": [
      "The factorial of 5 is 120\n"
     ]
    }
   ],
   "source": [
    "#13. Develop a program that calculates the factorial of a given number using recursion.\n",
    "\n",
    "def factorial(n):\n",
    "    if n == 0:\n",
    "        return 1  \n",
    "    else:\n",
    "        return n * factorial(n - 1)  \n",
    "\n",
    "num = int(input(\"Enter a non-negative integer: \"))\n",
    "\n",
    "if num < 0:\n",
    "    print(\"Factorial is not defined for negative numbers.\")\n",
    "else:\n",
    "    result = factorial(num)\n",
    "    print(f\"The factorial of {num} is {result}\")"
   ]
  },
  {
   "cell_type": "code",
   "execution_count": 25,
   "id": "6421f709-900f-4e6c-b8ff-a96458421da6",
   "metadata": {},
   "outputs": [
    {
     "name": "stdin",
     "output_type": "stream",
     "text": [
      "Enter first number:  -98\n",
      "Enter second number:  -87\n",
      "Enter third number:  -7\n"
     ]
    },
    {
     "name": "stdout",
     "output_type": "stream",
     "text": [
      "Largest number:  -7\n"
     ]
    }
   ],
   "source": [
    "#14. Write a program to find the largest among three numbers without using the `max()` function.\n",
    "\n",
    "num1 = int(input(\"Enter first number: \"))\n",
    "num2 = int(input(\"Enter second number: \"))\n",
    "num3 = int(input(\"Enter third number: \"))\n",
    "\n",
    "if num1>num2:\n",
    "    if num1>num3:\n",
    "        print(\"Largest number: \",num1)\n",
    "    else:\n",
    "        print(\"Largest number: \",num3)\n",
    "else:\n",
    "    if num2>num1:\n",
    "        if num2>num3:\n",
    "            print(\"Largest number: \",num2)\n",
    "        else:\n",
    "            print(\"Largest number: \",num3)"
   ]
  },
  {
   "cell_type": "code",
   "execution_count": 6,
   "id": "53bd7a02-c31a-4e66-a684-6eb26b4b382d",
   "metadata": {},
   "outputs": [
    {
     "name": "stdout",
     "output_type": "stream",
     "text": [
      "Welcome to my ATM\n",
      "Press 1 for balance enquiry\n",
      "Press 2 for deposit\n",
      "Press 3 for withdrawl\n",
      "Press 4 for exit\n"
     ]
    },
    {
     "name": "stdin",
     "output_type": "stream",
     "text": [
      "Enter your choice(1/2/3/4):  3\n",
      "Enter withdrawl amount:  4500\n"
     ]
    },
    {
     "name": "stdout",
     "output_type": "stream",
     "text": [
      "You have withdrawn 4500 from your account\n",
      "Available Balance:  5500\n"
     ]
    }
   ],
   "source": [
    "#15. Create a program that simulates a basic ATM transaction menu.\n",
    "\n",
    "bal = 10000\n",
    "print(\"Welcome to my ATM\")\n",
    "print(\"Press 1 for balance enquiry\")\n",
    "print(\"Press 2 for deposit\")\n",
    "print(\"Press 3 for withdrawl\")\n",
    "print(\"Press 4 for exit\")\n",
    "ch = input(\"Enter your choice(1/2/3/4): \")\n",
    "\n",
    "if ch == '1':\n",
    "    print(\"Available Balance: \",bal)\n",
    "elif ch == '2':\n",
    "    amt = int(input(\"Enter amount to be deposited: \"))\n",
    "    if amt>=0:\n",
    "        print(\"You have deposited\",amt,\"into your account\")\n",
    "        print(\"Available Balance: \",bal+amt)\n",
    "    else:\n",
    "        print(\"Invalid Amount! Please enter positive amount only\")\n",
    "elif ch == '3':\n",
    "    amt = int(input(\"Enter withdrawl amount: \"))\n",
    "    if amt>=0 and amt<=bal:\n",
    "        print(\"You have withdrawn\",amt,\"from your account\")\n",
    "        print(\"Available Balance: \",bal-amt)\n",
    "    elif amt>=0 and amt>bal:\n",
    "        print(\"Insufficient Funds\")\n",
    "    else:\n",
    "        print(\"Invalid amount! Please enter a positive amount\")\n",
    "elif ch == '4':\n",
    "    print(\"Thank You for using my ATM!\")\n",
    "else:\n",
    "    print(\"Invalid Choice! Please enter 1/2/3/4 only\")"
   ]
  },
  {
   "cell_type": "code",
   "execution_count": 8,
   "id": "9f25a938-b2aa-4466-8554-408cc247a05f",
   "metadata": {},
   "outputs": [
    {
     "name": "stdin",
     "output_type": "stream",
     "text": [
      "Enter a string:  bikash\n"
     ]
    },
    {
     "name": "stdout",
     "output_type": "stream",
     "text": [
      "bikash is not a palindrome string\n"
     ]
    }
   ],
   "source": [
    "#16. Build a program that checks if a given string is a palindrome or not.\n",
    "\n",
    "s = input(\"Enter a string: \")\n",
    "if s == s[::-1]:\n",
    "    print(s,\"is a palindrome string\")\n",
    "else:\n",
    "    print(s,\"is not a palindrome string\")"
   ]
  },
  {
   "cell_type": "code",
   "execution_count": 16,
   "id": "6b9dbd23-61e6-4b2f-8dda-c5fc92c01d29",
   "metadata": {},
   "outputs": [
    {
     "name": "stdout",
     "output_type": "stream",
     "text": [
      "List:  [1, 2, 3, 4, 5, 6]\n",
      "Average of list of numbers, excluding the smallest and largest values:  3.5\n"
     ]
    }
   ],
   "source": [
    "#17. Write a program that calculates the average of a list of numbers, excluding the smallest and largest values.\n",
    "\n",
    "lst = [1,2,3,4,5,6]\n",
    "print(\"List: \",lst)\n",
    "s=0\n",
    "for i in range(0,len(lst)):\n",
    "    if lst[i]!=max(lst) and lst[i]!=min(lst):\n",
    "        s = s+lst[i]\n",
    "print(\"Average of list of numbers, excluding the smallest and largest values: \",s/(len(lst)-2))"
   ]
  },
  {
   "cell_type": "code",
   "execution_count": 23,
   "id": "96353205-d847-47d6-91a6-5fb63e8c294a",
   "metadata": {},
   "outputs": [
    {
     "name": "stdin",
     "output_type": "stream",
     "text": [
      "Enter temperature in degree celsius:  37\n"
     ]
    },
    {
     "name": "stdout",
     "output_type": "stream",
     "text": [
      "Temperature in Farenheit: 98.60\n"
     ]
    }
   ],
   "source": [
    "#18. Develop a program that converts a given temperature from Celsius to Fahrenheit.\n",
    "\n",
    "celsius = float(input(\"Enter temperature in degree celsius: \"))\n",
    "far = celsius * (9/5) + 32\n",
    "print(\"Temperature in Farenheit: {:.2f}\".format(far))"
   ]
  },
  {
   "cell_type": "code",
   "execution_count": 24,
   "id": "4e65d034-2891-4649-a279-0f003d5e6809",
   "metadata": {},
   "outputs": [
    {
     "name": "stdin",
     "output_type": "stream",
     "text": [
      "Enter first number:  12\n",
      "Enter second number:  2\n",
      "Enter operation you want to perform(Add/Mul/Sub/Div) Mul\n"
     ]
    },
    {
     "name": "stdout",
     "output_type": "stream",
     "text": [
      "Result:  24\n"
     ]
    }
   ],
   "source": [
    "#19. Create a program that simulates a basic calculator for addition, subtraction, multiplication, and division.\n",
    "\n",
    "n1 = int(input(\"Enter first number: \"))\n",
    "n2 = int(input(\"Enter second number: \"))\n",
    "ch = input(\"Enter operation you want to perform(Add/Mul/Sub/Div)\")\n",
    "if ch == 'Add':\n",
    "    result = n1+n2\n",
    "elif ch == \"Sub\":\n",
    "    result = n1-n2\n",
    "elif ch=='Mul':\n",
    "    result = n1*n2\n",
    "elif ch==\"Div\":\n",
    "    result = n1//n2\n",
    "else:\n",
    "    print(\"Enter a valid choice: \")\n",
    "\n",
    "print(\"Result: \",result)"
   ]
  },
  {
   "cell_type": "code",
   "execution_count": 25,
   "id": "0e3696a4-4208-424b-b7e3-0a9c30291fa6",
   "metadata": {},
   "outputs": [
    {
     "name": "stdin",
     "output_type": "stream",
     "text": [
      "Enter the coefficient of x^3:  1\n",
      "Enter the coefficient of x^2:  2\n",
      "Enter the coefficient of x:  3\n",
      "Enter the constant term:  4\n"
     ]
    },
    {
     "name": "stdout",
     "output_type": "stream",
     "text": [
      "Roots of the cubic equation:\n",
      "Root 1: (0.42697045480630835+1.199502715028224j)\n",
      "Root 2: (-1.4658704127140938-1.6385511806369601j)\n",
      "Root 3: (-0.9611000420922141+0.4390484656087361j)\n"
     ]
    }
   ],
   "source": [
    "#20. Write a program that determines the roots of a cubic equation using the Cardano formula.\n",
    "\n",
    "import cmath\n",
    "a = float(input(\"Enter the coefficient of x^3: \"))\n",
    "b = float(input(\"Enter the coefficient of x^2: \"))\n",
    "c = float(input(\"Enter the coefficient of x: \"))\n",
    "d = float(input(\"Enter the constant term: \"))\n",
    "\n",
    "\n",
    "def cubic_roots(a, b, c, d):\n",
    "    p = c / a - (b**2) / (3 * a**2)\n",
    "    q = (2 * b**3) / (27 * a**3) - (b * c) / (3 * a**2) + d / a\n",
    "\n",
    "    discriminant = (q**2) / 4 + (p**3) / 27\n",
    "\n",
    "    \n",
    "    if discriminant > 0:\n",
    "        u = (-q / 2 + discriminant**0.5)**(1/3)\n",
    "        v = (-q / 2 - discriminant**0.5)**(1/3)\n",
    "        root1 = u + v - b / (3 * a)\n",
    "        root2 = -(u + v) / 2 - b / (3 * a) + (u - v) * 3**0.5 / 2\n",
    "        root3 = -(u + v) / 2 - b / (3 * a) - (u - v) * 3**0.5 / 2\n",
    "        return root1, root2, root3\n",
    "    elif discriminant == 0:\n",
    "        u = (-q / 2)**(1/3)\n",
    "        root1 = 2 * u - b / (3 * a)\n",
    "        root2 = -(u + b / (3 * a))\n",
    "        root3 = root2.conjugate()\n",
    "        return root1, root2, root3\n",
    "    else:\n",
    "        r = ((-(q / 2)**2 + (discriminant)**2)**0.5)**(1/3)\n",
    "        theta = cmath.acos(-q / (2 * r))\n",
    "        root1 = 2 * r * cmath.cos(theta / 3) - b / (3 * a)\n",
    "        root2 = 2 * r * cmath.cos((theta + 2 * cmath.pi) / 3) - b / (3 * a)\n",
    "        root3 = 2 * r * cmath.cos((theta + 4 * cmath.pi) / 3) - b / (3 * a)\n",
    "        return root1, root2, root3\n",
    "\n",
    "roots = cubic_roots(a, b, c, d)\n",
    "print(\"Roots of the cubic equation:\")\n",
    "for i, root in enumerate(roots, start=1):\n",
    "    print(f\"Root {i}: {root}\")"
   ]
  },
  {
   "cell_type": "markdown",
   "id": "4d0d2973-6265-4c2d-b4b3-bd5327f29903",
   "metadata": {},
   "source": [
    "#### Advanced Level:"
   ]
  },
  {
   "cell_type": "code",
   "execution_count": 1,
   "id": "cf8ef675-0cfc-458b-84c5-5bce0cc5ef65",
   "metadata": {},
   "outputs": [
    {
     "name": "stdin",
     "output_type": "stream",
     "text": [
      "Enter total income:  1000000\n"
     ]
    },
    {
     "name": "stdout",
     "output_type": "stream",
     "text": [
      "Your Tax Amount:  75000.0\n"
     ]
    }
   ],
   "source": [
    "#21. Create a program that calculates the income tax based on the user's income and tax brackets.\n",
    "\n",
    "'''Assumptions\n",
    "\n",
    "AMOUNT                             INCOME TAX RATE\n",
    "Up to ₹2,50,000                     0%\n",
    "₹2,50,001 – ₹5,00,000           5% above ₹2,50,000\n",
    "₹5,00,001 – ₹7,50,000           10% above ₹5,00,000 + ₹12,500\n",
    "₹7,50,001 – ₹10,00,000          15% above ₹7,50,000 + ₹37,500\n",
    "₹10,00,001 – ₹12,50,000         20% above ₹10,00,000 + ₹75,000\n",
    "₹12,50,001 – ₹15,00,000         25% above ₹12,50,000 + ₹1,25,000\n",
    "Above ₹15,00,001                30% above ₹15,00,000 + ₹1,87,500'''\n",
    "\n",
    "amt = float(input(\"Enter total income: \"))\n",
    "if amt<=250000:\n",
    "    tax = 0\n",
    "elif amt>250000 and amt<=500000:\n",
    "    tax = (amt-250000)*0.05\n",
    "elif amt>500000 and amt<=750000:\n",
    "    tax = 12500 + (amt-500000)*0.10\n",
    "elif amt>750000 and amt<=1000000:\n",
    "    tax = 37500 + (amt-750000)*0.15\n",
    "elif amt>1000000 and amt<=1250000:\n",
    "    tax = 75000+ (amt-1000000)*0.20\n",
    "elif amt>1250000 and amt<=1500000:\n",
    "    tax = 125000+ (amt-1250000)*0.25\n",
    "elif amt>1500000:\n",
    "    tax=187500+ (amt-1500000)*0.30\n",
    "print(\"Your Tax Amount: \",tax)"
   ]
  },
  {
   "cell_type": "code",
   "execution_count": 4,
   "id": "c95ff06c-182f-4e45-bac1-9958df85ec1f",
   "metadata": {},
   "outputs": [
    {
     "name": "stdin",
     "output_type": "stream",
     "text": [
      "Enter your choice(rock, paper, or scissors):  rock\n"
     ]
    },
    {
     "name": "stdout",
     "output_type": "stream",
     "text": [
      "User choice:  rock\n",
      "Computer Choice:  scissors\n",
      "You Win!\n"
     ]
    }
   ],
   "source": [
    "#22. Write a program that simulates a rock-paper-scissors game against the computer.\n",
    "\n",
    "import random\n",
    "user_choice = input(\"Enter your choice(rock, paper, or scissors): \").lower()\n",
    "print(\"User choice: \",user_choice)\n",
    "choices = ['rock','paper','scissors']\n",
    "if user_choice in choices:\n",
    "    computer_choice = random.choice(choices)\n",
    "    print(\"Computer Choice: \", computer_choice)\n",
    "    if user_choice == computer_choice:\n",
    "        print(\"It's a tie!\")\n",
    "    elif ((user_choice == 'rock' and computer_choice == 'scissors') or (user_choice == 'paper' and computer_choice == 'rock') or (user_choice == 'scissors' and computer_choice == 'paper')):\n",
    "        print(\"You Win!\")\n",
    "    else:\n",
    "        print(\"Computer Wins\")"
   ]
  },
  {
   "cell_type": "code",
   "execution_count": 6,
   "id": "bc2420b0-c0e3-4d56-b505-97d5e56af37b",
   "metadata": {},
   "outputs": [
    {
     "name": "stdin",
     "output_type": "stream",
     "text": [
      "Enter length of password:  12\n"
     ]
    },
    {
     "name": "stdout",
     "output_type": "stream",
     "text": [
      "Press 1 to include characters\n",
      "Press 2 to include digits\n",
      "Press 3 to include special symbols\n",
      "Press 4 to exit\n"
     ]
    },
    {
     "name": "stdin",
     "output_type": "stream",
     "text": [
      "Please enter your choice:  1\n"
     ]
    },
    {
     "name": "stdout",
     "output_type": "stream",
     "text": [
      "Press 1 to include characters\n",
      "Press 2 to include digits\n",
      "Press 3 to include special symbols\n",
      "Press 4 to exit\n"
     ]
    },
    {
     "name": "stdin",
     "output_type": "stream",
     "text": [
      "Please enter your choice:  2\n"
     ]
    },
    {
     "name": "stdout",
     "output_type": "stream",
     "text": [
      "Press 1 to include characters\n",
      "Press 2 to include digits\n",
      "Press 3 to include special symbols\n",
      "Press 4 to exit\n"
     ]
    },
    {
     "name": "stdin",
     "output_type": "stream",
     "text": [
      "Please enter your choice:  3\n"
     ]
    },
    {
     "name": "stdout",
     "output_type": "stream",
     "text": [
      "Press 1 to include characters\n",
      "Press 2 to include digits\n",
      "Press 3 to include special symbols\n",
      "Press 4 to exit\n"
     ]
    },
    {
     "name": "stdin",
     "output_type": "stream",
     "text": [
      "Please enter your choice:  4\n"
     ]
    },
    {
     "name": "stdout",
     "output_type": "stream",
     "text": [
      "Generated Password:  ]i4;q3)K)u?s\n"
     ]
    }
   ],
   "source": [
    "#23. Develop a program that generates a random password based on user preferences (length, complexity).\n",
    "\n",
    "import random\n",
    "import string\n",
    "\n",
    "length = int(input(\"Enter length of password: \"))\n",
    "pwd = ''\n",
    "while True:\n",
    "    print(\"Press 1 to include characters\")\n",
    "    print(\"Press 2 to include digits\")\n",
    "    print(\"Press 3 to include special symbols\")\n",
    "    print(\"Press 4 to exit\")\n",
    "    choice = int(input(\"Please enter your choice: \"))\n",
    "    if choice == 1:\n",
    "        pwd+=string.ascii_letters\n",
    "    elif choice == 2:\n",
    "        pwd+=string.digits\n",
    "    elif choice == 3:\n",
    "        pwd+=string.punctuation\n",
    "    elif choice == 4:\n",
    "        break\n",
    "    else:\n",
    "        print(\"Invalid choice!\")\n",
    "        break\n",
    "\n",
    "password = ''\n",
    "for i in range(length):\n",
    "    password+=random.choice(pwd)\n",
    "print(\"Generated Password: \",password)        "
   ]
  },
  {
   "cell_type": "code",
   "execution_count": 14,
   "id": "838723fc-51d0-4f03-8e07-8a88460f7c2d",
   "metadata": {},
   "outputs": [
    {
     "name": "stdin",
     "output_type": "stream",
     "text": [
      "Enter coefficient of a for the equation ax+b=0:  6\n",
      "Enter coefficient of b for the equation ax+b=0:  3\n"
     ]
    },
    {
     "name": "stdout",
     "output_type": "stream",
     "text": [
      "Solution:  -0.5\n"
     ]
    }
   ],
   "source": [
    "#25. Build a program that solves a linear equation for x, considering different cases.\n",
    "\n",
    "a = float(input(\"Enter coefficient of a for the equation ax+b=0: \"))\n",
    "b = float(input(\"Enter coefficient of b for the equation ax+b=0: \"))\n",
    "if a==0:\n",
    "    if b==0:\n",
    "        print(\"Infinite solutions - Identity equation\")\n",
    "    else:\n",
    "        print(\"No solution - Contradictory equation\")\n",
    "else:\n",
    "    print(\"Solution: \",-b/a)"
   ]
  },
  {
   "cell_type": "code",
   "execution_count": 8,
   "id": "2cfc2be4-fdfb-4e83-8f04-25080036c4d9",
   "metadata": {},
   "outputs": [
    {
     "name": "stdin",
     "output_type": "stream",
     "text": [
      "Q1. What is the capital of India?\n",
      "1. Delhi 2. Chennai 3. Kolkata 4. Assam 1\n"
     ]
    },
    {
     "name": "stdout",
     "output_type": "stream",
     "text": [
      "Correct!\n"
     ]
    },
    {
     "name": "stdin",
     "output_type": "stream",
     "text": [
      "Q2. Father of computer?\n",
      "1. Charles Babbage 2. Kevin 3. Newton 4. Henry Ford 2\n"
     ]
    },
    {
     "name": "stdout",
     "output_type": "stream",
     "text": [
      "Wrong\n"
     ]
    },
    {
     "name": "stdin",
     "output_type": "stream",
     "text": [
      "Q3. Which country has highest life expectency?\n",
      "1. India 2. Japan 3. Hong Kong 4. German 3\n"
     ]
    },
    {
     "name": "stdout",
     "output_type": "stream",
     "text": [
      "Correct!\n",
      "Your score:  2 /3\n"
     ]
    }
   ],
   "source": [
    "#26. Write a program that simulates a basic quiz game with multiple-choice questions and scoring.\n",
    "\n",
    "score = 0\n",
    "q1 = int(input(\"Q1. What is the capital of India?\\n1. Delhi 2. Chennai 3. Kolkata 4. Assam\"))\n",
    "if q1 == 1:\n",
    "    print(\"Correct!\")\n",
    "    score+=1\n",
    "else:\n",
    "    print(\"Wrong\")\n",
    "    \n",
    "q2 = int(input(\"Q2. Father of computer?\\n1. Charles Babbage 2. Kevin 3. Newton 4. Henry Ford\"))\n",
    "if q2 == 1:\n",
    "    print(\"Correct!\")\n",
    "    score+=1\n",
    "else:\n",
    "    print(\"Wrong\")\n",
    "\n",
    "q3 = int(input(\"Q3. Which country has highest life expectency?\\n1. India 2. Japan 3. Hong Kong 4. German\"))\n",
    "if q3 == 3:\n",
    "    print(\"Correct!\")\n",
    "    score+=1\n",
    "else:\n",
    "    print(\"Wrong\")\n",
    "\n",
    "print(\"Your score: \",score,\"/3\")"
   ]
  },
  {
   "cell_type": "code",
   "execution_count": 11,
   "id": "9923c066-a231-409d-8506-4eeaaaf82247",
   "metadata": {},
   "outputs": [
    {
     "name": "stdin",
     "output_type": "stream",
     "text": [
      "Enter Year:  1993\n"
     ]
    },
    {
     "name": "stdout",
     "output_type": "stream",
     "text": [
      "1993 is a prime year\n"
     ]
    }
   ],
   "source": [
    "#27. Develop a program that determines whether a given year is a prime number or not.\n",
    "\n",
    "n = int(input(\"Enter Year: \"))\n",
    "f=1\n",
    "ctr=0\n",
    "for f in range(1,n+1):\n",
    "    if n%f==0:\n",
    "        ctr+=1\n",
    "if ctr==2:\n",
    "    print(n,\"is a prime year\")\n",
    "else:\n",
    "    print(n,\"is not a prime year\")"
   ]
  },
  {
   "cell_type": "code",
   "execution_count": 6,
   "id": "3eb8a516-a6b3-4e36-b9ea-f261ccdc5475",
   "metadata": {},
   "outputs": [
    {
     "name": "stdin",
     "output_type": "stream",
     "text": [
      "Enter the first number:  12\n",
      "Enter the second number:  -9\n",
      "Enter the third number:  98\n"
     ]
    },
    {
     "name": "stdout",
     "output_type": "stream",
     "text": [
      "Numbers in ascending order:  -9 , 12 , 98\n"
     ]
    }
   ],
   "source": [
    "#28. Create a program that sorts three numbers in ascending order using conditional statements.\n",
    "\n",
    "n1 = int(input(\"Enter the first number: \"))\n",
    "n2 = int(input(\"Enter the second number: \"))\n",
    "n3 = int(input(\"Enter the third number: \"))\n",
    "\n",
    "if n1<n2 and n1<n3:\n",
    "    min_num = n1\n",
    "elif n2<n1 and n2<n3:\n",
    "    min_num = n2\n",
    "else:\n",
    "    min_num = n3\n",
    "if n1>n2 and n1>n3:\n",
    "    max_num = n1\n",
    "elif n2>n1 and n2>n3:\n",
    "    max_num = n2\n",
    "else:\n",
    "    max_num = n3\n",
    "mid = n1+n2+n3-min_num-max_num\n",
    "\n",
    "print(\"Numbers in ascending order: \",min_num,\",\",mid,\",\",max_num)"
   ]
  },
  {
   "cell_type": "code",
   "execution_count": 7,
   "id": "8c5e5477-14ff-4a75-8c10-0cfd3de0be45",
   "metadata": {},
   "outputs": [
    {
     "name": "stdin",
     "output_type": "stream",
     "text": [
      "Enter the coefficient a:  12\n",
      "Enter the coefficient b:  3\n",
      "Enter the coefficient c: 4\n"
     ]
    },
    {
     "name": "stdout",
     "output_type": "stream",
     "text": [
      "The roots are complex:  -0.125 + 0.535218024111047 i and -0.125 - 0.535218024111047 i\n"
     ]
    }
   ],
   "source": [
    "#29. Build a program that determines the roots of a quartic equation using numerical methods.\n",
    "\n",
    "import math\n",
    "\n",
    "a = float(input(\"Enter the coefficient a: \"))\n",
    "b = float(input(\"Enter the coefficient b: \"))\n",
    "c = float(input(\"Enter the coefficient c:\"))\n",
    "\n",
    "dis = b**b-4*a*c\n",
    "\n",
    "if dis > 0:\n",
    "    root1 = (-b + math.sqrt(dis)) / (2*a)\n",
    "    root2 = (-b - math.sqrt(dis)) / (2*a)\n",
    "    print(\"The roots are real and distinct:\",root1,\"and\",root2)\n",
    "elif dis==0:\n",
    "    root = -b / (2*a)\n",
    "    print(\"The root is real and repeated: \",root)\n",
    "else:\n",
    "    real_part = -b / (2*a)\n",
    "    imaginary_part = math.sqrt(-dis) / (2*a)\n",
    "    print(\"The roots are complex: \",real_part,\"+\",imaginary_part,\"i\",\"and\",real_part,\"-\",imaginary_part,\"i\")"
   ]
  },
  {
   "cell_type": "code",
   "execution_count": 8,
   "id": "c182e74c-5381-43f8-8b28-a209d9081a86",
   "metadata": {},
   "outputs": [
    {
     "name": "stdin",
     "output_type": "stream",
     "text": [
      "Enter weight in kgs:  70\n",
      "Enter height in sq m:  180\n"
     ]
    },
    {
     "name": "stdout",
     "output_type": "stream",
     "text": [
      "Underweight\n"
     ]
    }
   ],
   "source": [
    "#30. Write a program that calculates the BMI (Body Mass Index) and provides health recommendations based on the user's input.\n",
    "\n",
    "weight = float(input(\"Enter weight in kgs: \"))\n",
    "height = float(input(\"Enter height in sq m: \"))\n",
    "bmi=weight/height**2\n",
    "if bmi<18.5:\n",
    "    print(\"Underweight\")\n",
    "elif bmi>=18.5 and bmi<25:\n",
    "    print(\"Healthy\")\n",
    "elif bmi>=25 and bmi<30:\n",
    "    print(\"Overweight\")\n",
    "elif bmi>=30:\n",
    "    print(\"Obesity\")"
   ]
  },
  {
   "cell_type": "code",
   "execution_count": 9,
   "id": "56b2e836-ee8a-4513-882a-22caabc30e2f",
   "metadata": {},
   "outputs": [
    {
     "name": "stdin",
     "output_type": "stream",
     "text": [
      "Enter password:  Crack@123\n"
     ]
    },
    {
     "name": "stdout",
     "output_type": "stream",
     "text": [
      "Valid Password\n"
     ]
    }
   ],
   "source": [
    "#31. Create a program that validates a password based on complexity rules (length, characters, etc.).\n",
    "\n",
    "pwd = input(\"Enter password: \")\n",
    "lu=0\n",
    "ll=0\n",
    "ld=0\n",
    "ls=0\n",
    "for i in pwd:\n",
    "    if i.isupper():\n",
    "        lu+=1\n",
    "    elif i.islower():\n",
    "        ll+=1\n",
    "    elif i.isdigit():\n",
    "        ld+=1\n",
    "    elif i == '!' or i=='$' or i=='#' or i=='@' or i=='!' or i=='%' or i=='&' or i=='*':\n",
    "        ls+=1\n",
    "if lu>=1 and ll>=1 and ld>=1 and ls>=1 and lu+ll+ld+ls==len(pwd) and len(pwd)>=8:\n",
    "    print(\"Valid Password\")\n",
    "else:\n",
    "    print(\"Invalid Password\")"
   ]
  },
  {
   "cell_type": "code",
   "execution_count": 14,
   "id": "ae6daa8e-3150-4005-ade4-78bbe54ec66b",
   "metadata": {},
   "outputs": [
    {
     "name": "stdout",
     "output_type": "stream",
     "text": [
      "Elements of first matrix\n",
      "1 2 \n",
      "3 4 \n",
      "Elements of second matrix\n",
      "0 1 \n",
      "4 5 \n",
      "Subtraction of two matrix\n",
      "1 1 \n",
      "-1 -1 \n",
      "Addition of two matrix\n",
      "1 3 \n",
      "7 9 \n"
     ]
    }
   ],
   "source": [
    "#32. Develop a program that performs matrix addition and subtraction based on user input.\n",
    "\n",
    "m1 = [[1, 2], [3, 4]]\n",
    "m2 = [[0, 1], [4, 5]]\n",
    " \n",
    "print(\"Elements of first matrix\")\n",
    "for row in m1:\n",
    "    for element in row:\n",
    "        print(element, end=\" \")\n",
    "    print()\n",
    " \n",
    "print(\"Elements of second matrix\")\n",
    "for row in m2:\n",
    "    for element in row:\n",
    "        print(element, end=\" \")\n",
    "    print()\n",
    " \n",
    "result = [[0, 0], [0, 0]]\n",
    "for i in range(len(m1)):\n",
    "    for j in range(len(m1[0])):\n",
    "        result[i][j] = m1[i][j] - m2[i][j]\n",
    " \n",
    "print(\"Subtraction of two matrix\")\n",
    "for row in result:\n",
    "    for element in row:\n",
    "        print(element, end=\" \")\n",
    "    print()\n",
    "\n",
    "result = [[0, 0], [0, 0]]\n",
    "for i in range(len(m1)):\n",
    "    for j in range(len(m1[0])):\n",
    "        result[i][j] = m1[i][j] + m2[i][j]\n",
    "\n",
    "print(\"Addition of two matrix\")\n",
    "for row in result:\n",
    "    for element in row:\n",
    "        print(element, end=\" \")\n",
    "    print()"
   ]
  },
  {
   "cell_type": "code",
   "execution_count": 15,
   "id": "2674b01e-4397-48b3-abc4-5306b2effd3c",
   "metadata": {},
   "outputs": [
    {
     "name": "stdin",
     "output_type": "stream",
     "text": [
      "Enter first number:  33\n",
      "Enter second number:  12\n"
     ]
    },
    {
     "name": "stdout",
     "output_type": "stream",
     "text": [
      "GCD:  3\n"
     ]
    }
   ],
   "source": [
    "#33. Write a program that calculates the greatest common divisor (GCD) of two numbers using the Euclidean algorithm.\n",
    "\n",
    "n1 = int(input(\"Enter first number: \"))\n",
    "n2 = int(input(\"Enter second number: \"))\n",
    "a = max(n1,n2)\n",
    "b = min(n1,n2)\n",
    "while b:\n",
    "    a, b = b, a % b\n",
    "print(\"GCD: \",a)"
   ]
  },
  {
   "cell_type": "code",
   "execution_count": 17,
   "id": "80a51535-f9d5-4004-840a-ca0f59dc9335",
   "metadata": {},
   "outputs": [
    {
     "name": "stdout",
     "output_type": "stream",
     "text": [
      "A:  [[1, 2, 3], [5, 3, 1], [7, 9, 8]]\n",
      "B:  [[3, 4], [12, 4], [8, 14]]\n",
      "A*B =  [[51, 54], [59, 46], [193, 176]]\n"
     ]
    }
   ],
   "source": [
    "#34. Build a program that performs matrix multiplication using nested loops and conditional statements.\n",
    "\n",
    "A = [[1,2,3],[5,3,1],[7,9,8]]\n",
    "B = [[3,4],[12,4],[8,14]]\n",
    " \n",
    "print(\"A: \",A)\n",
    "print(\"B: \",B)\n",
    "\n",
    "p = len(A)\n",
    "q = len(A[0])\n",
    " \n",
    "t = len(B)\n",
    "r = len(B[0])\n",
    " \n",
    "if(q!=t):\n",
    "   print(\"Error! Matrix sizes are not compatible\")\n",
    "   \n",
    " \n",
    "C = []\n",
    "for row in range(p):\n",
    "   curr_row = []\n",
    "   for col in range(r):\n",
    "       curr_row.append(0)\n",
    "   C.append(curr_row)\n",
    " \n",
    " \n",
    "for i in range(p):\n",
    "   for j in range(r):\n",
    "       curr_val = 0\n",
    "       for k in range(q):\n",
    "           curr_val += A[i][k]*B[k][j]\n",
    "       C[i][j] = curr_val\n",
    " \n",
    "print(\"A*B = \",C)"
   ]
  },
  {
   "cell_type": "code",
   "execution_count": 20,
   "id": "c60ee5dc-6044-4193-b949-ccc029d8cbf3",
   "metadata": {},
   "outputs": [
    {
     "name": "stdout",
     "output_type": "stream",
     "text": [
      "  |   |  \n",
      "---------\n",
      "  |   |  \n",
      "---------\n",
      "  |   |  \n"
     ]
    },
    {
     "name": "stdin",
     "output_type": "stream",
     "text": [
      "Enter your move (1-9):  1\n"
     ]
    },
    {
     "name": "stdout",
     "output_type": "stream",
     "text": [
      "X |   |  \n",
      "---------\n",
      "  |   |  \n",
      "---------\n",
      "O |   |  \n"
     ]
    },
    {
     "name": "stdin",
     "output_type": "stream",
     "text": [
      "Enter your move (1-9):  5\n"
     ]
    },
    {
     "name": "stdout",
     "output_type": "stream",
     "text": [
      "X |   | O\n",
      "---------\n",
      "  | X |  \n",
      "---------\n",
      "O |   |  \n"
     ]
    },
    {
     "name": "stdin",
     "output_type": "stream",
     "text": [
      "Enter your move (1-9):  9\n"
     ]
    },
    {
     "name": "stdout",
     "output_type": "stream",
     "text": [
      "X |   | O\n",
      "---------\n",
      "  | X |  \n",
      "---------\n",
      "O |   | X\n",
      "Congratulations! You win!\n"
     ]
    }
   ],
   "source": [
    "#35. Create a program that simulates a basic text-based tic-tac-toe game against the computer.\n",
    "\n",
    "import random\n",
    "\n",
    "\n",
    "board = [\" \" for _ in range(9)]\n",
    "\n",
    "\n",
    "def print_board():\n",
    "    for i in range(0, 9, 3):\n",
    "        print(f\"{board[i]} | {board[i + 1]} | {board[i + 2]}\")\n",
    "        if i < 6:\n",
    "            print(\"-\" * 9)\n",
    "\n",
    "\n",
    "def is_game_over():\n",
    " \n",
    "    for i in range(0, 9, 3):\n",
    "        if board[i] == board[i + 1] == board[i + 2] != \" \":\n",
    "            return True\n",
    "    for i in range(3):\n",
    "        if board[i] == board[i + 3] == board[i + 6] != \" \":\n",
    "            return True\n",
    "    if board[0] == board[4] == board[8] != \" \" or board[2] == board[4] == board[6] != \" \":\n",
    "        return True\n",
    "\n",
    "    if \" \" not in board:\n",
    "        return True\n",
    "    return False\n",
    "\n",
    "\n",
    "def computer_move():\n",
    "    while True:\n",
    "        move = random.randint(0, 8)\n",
    "        if board[move] == \" \":\n",
    "            return move\n",
    "\n",
    "\n",
    "while not is_game_over():\n",
    "    print_board()\n",
    "    \n",
    "   \n",
    "    while True:\n",
    "        try:\n",
    "            player_move = int(input(\"Enter your move (1-9): \")) - 1\n",
    "            if 0 <= player_move <= 8 and board[player_move] == \" \":\n",
    "                board[player_move] = \"X\"\n",
    "                break\n",
    "            else:\n",
    "                print(\"Invalid move. Try again.\")\n",
    "        except ValueError:\n",
    "            print(\"Invalid input. Enter a number between 1 and 9.\")\n",
    "\n",
    "    \n",
    "    if is_game_over():\n",
    "        break\n",
    "\n",
    "   \n",
    "    comp_move = computer_move()\n",
    "    board[comp_move] = \"O\"\n",
    "\n",
    "    \n",
    "print_board()\n",
    "\n",
    "\n",
    "if \"X\" in board:\n",
    "    print(\"Congratulations! You win!\")\n",
    "elif \"O\" in board:\n",
    "    print(\"Computer wins!\")\n",
    "else:\n",
    "    print(\"It's a draw!\")\n"
   ]
  },
  {
   "cell_type": "code",
   "execution_count": 24,
   "id": "1cf53ecb-c3b9-4fde-81a2-95bfdd10ffc1",
   "metadata": {},
   "outputs": [
    {
     "name": "stdin",
     "output_type": "stream",
     "text": [
      "Enter the number of terms in the sequence:  6\n"
     ]
    },
    {
     "name": "stdout",
     "output_type": "stream",
     "text": [
      "0 1 1 2 3 5 "
     ]
    }
   ],
   "source": [
    "#36. Write a program that generates Fibonacci numbers up to a specified term using iterative methods.\n",
    "\n",
    "a=0\n",
    "b=1\n",
    "n=int(input(\"Enter the number of terms in the sequence: \"))\n",
    "print(a,b, end=\" \")\n",
    "while (n-2):\n",
    "    c=a+b\n",
    "    a,b=b,c\n",
    "    print(c, end=\" \")\n",
    "    n=n-1"
   ]
  },
  {
   "cell_type": "code",
   "execution_count": 32,
   "id": "54617fbb-6ac5-4e36-a07f-65bd7b97df10",
   "metadata": {},
   "outputs": [
    {
     "name": "stdin",
     "output_type": "stream",
     "text": [
      "Enter nth term of fibonacci sequence:  7\n"
     ]
    },
    {
     "name": "stdout",
     "output_type": "stream",
     "text": [
      "7 th term of fibonacci series is:  13\n"
     ]
    }
   ],
   "source": [
    "#37. Develop a program that calculates the nth term of the Fibonacci sequence using memoization.\n",
    "\n",
    "def fib(n):\n",
    "    if n<=1:\n",
    "        return n\n",
    "    else:\n",
    "        return fib(n-2)+fib(n-1)\n",
    "n = int(input(\"Enter nth term of fibonacci sequence: \"))\n",
    "print(n,\"th term of fibonacci series is: \",fib(n))"
   ]
  },
  {
   "cell_type": "code",
   "execution_count": 33,
   "id": "916d083d-e098-4740-96de-cc1d8cf99537",
   "metadata": {},
   "outputs": [
    {
     "name": "stdin",
     "output_type": "stream",
     "text": [
      "Enter the year:  2023\n",
      "Enter the month (1-12):  9\n"
     ]
    },
    {
     "name": "stdout",
     "output_type": "stream",
     "text": [
      "Calendar for September 2023:\n",
      "   September 2023\n",
      "Mo Tu We Th Fr Sa Su\n",
      "             1  2  3\n",
      " 4  5  6  7  8  9 10\n",
      "11 12 13 14 15 16 17\n",
      "18 19 20 21 22 23 24\n",
      "25 26 27 28 29 30\n",
      "\n"
     ]
    }
   ],
   "source": [
    "#38. Create a program that generates a calendar for a given month and year using conditional statements.\n",
    "\n",
    "import calendar\n",
    "\n",
    "year = int(input(\"Enter the year: \"))\n",
    "month = int(input(\"Enter the month (1-12): \"))\n",
    "\n",
    "# Create a calendar for the specified month and year\n",
    "cal = calendar.month(year, month)\n",
    "\n",
    "# Display the calendar\n",
    "print(f\"Calendar for {calendar.month_name[month]} {year}:\")\n",
    "print(cal)"
   ]
  },
  {
   "cell_type": "code",
   "execution_count": 38,
   "id": "f2a69410-073e-434d-8997-239ac8bb9be8",
   "metadata": {},
   "outputs": [
    {
     "name": "stdout",
     "output_type": "stream",
     "text": [
      "Your hand:\n",
      "5 of Hearts\n",
      "9 of Diamonds\n",
      "\n",
      "Computer's hand:\n",
      "A of Hearts\n",
      "Face-down card\n"
     ]
    },
    {
     "name": "stdin",
     "output_type": "stream",
     "text": [
      "\n",
      "Do you want to hit or stand?  hit\n"
     ]
    },
    {
     "name": "stdout",
     "output_type": "stream",
     "text": [
      "\n",
      "Your hand:\n",
      "5 of Hearts\n",
      "9 of Diamonds\n",
      "J of Spades\n",
      "\n",
      "Your hand:\n",
      "5 of Hearts\n",
      "9 of Diamonds\n",
      "J of Spades\n",
      "\n",
      "Computer's hand:\n",
      "A of Hearts\n",
      "7 of Clubs\n",
      "\n",
      "You busted! Computer wins.\n"
     ]
    }
   ],
   "source": [
    "#39. Build a program that simulates a basic text-based blackjack game against the computer.\n",
    "\n",
    "import random\n",
    "\n",
    "\n",
    "ranks = ['2', '3', '4', '5', '6', '7', '8', '9', '10', 'J', 'Q', 'K', 'A']\n",
    "suits = ['Hearts', 'Diamonds', 'Clubs', 'Spades']\n",
    "values = {'2': 2, '3': 3, '4': 4, '5': 5, '6': 6, '7': 7, '8': 8, '9': 9, '10': 10, 'J': 10, 'Q': 10, 'K': 10, 'A': 11}\n",
    "\n",
    "\n",
    "def deal_card():\n",
    "    rank = random.choice(ranks)\n",
    "    suit = random.choice(suits)\n",
    "    return (rank, suit)\n",
    "\n",
    "\n",
    "def calculate_hand_value(hand):\n",
    "    value = sum(values[card[0]] for card in hand)\n",
    "    num_aces = sum(1 for card in hand if card[0] == 'A')\n",
    "    while value > 21 and num_aces > 0:\n",
    "        value -= 10\n",
    "        num_aces -= 1\n",
    "    return value\n",
    "\n",
    "\n",
    "def display_hand(hand):\n",
    "    for card in hand:\n",
    "        print(f'{card[0]} of {card[1]}')\n",
    "\n",
    "\n",
    "player_hand = [deal_card(), deal_card()]\n",
    "computer_hand = [deal_card(), deal_card()]\n",
    "\n",
    "\n",
    "print('Your hand:')\n",
    "display_hand(player_hand)\n",
    "print('\\nComputer\\'s hand:')\n",
    "print(f'{computer_hand[0][0]} of {computer_hand[0][1]}')\n",
    "print('Face-down card')\n",
    "\n",
    "\n",
    "while calculate_hand_value(player_hand) < 21:\n",
    "    action = input('\\nDo you want to hit or stand? ').lower()\n",
    "    if action == 'hit':\n",
    "        player_hand.append(deal_card())\n",
    "        print('\\nYour hand:')\n",
    "        display_hand(player_hand)\n",
    "    elif action == 'stand':\n",
    "        break\n",
    "\n",
    "\n",
    "while calculate_hand_value(computer_hand) < 17:\n",
    "    computer_hand.append(deal_card())\n",
    "\n",
    "\n",
    "print('\\nYour hand:')\n",
    "display_hand(player_hand)\n",
    "print('\\nComputer\\'s hand:')\n",
    "display_hand(computer_hand)\n",
    "\n",
    "\n",
    "player_value = calculate_hand_value(player_hand)\n",
    "computer_value = calculate_hand_value(computer_hand)\n",
    "\n",
    "if player_value > 21:\n",
    "    print('\\nYou busted! Computer wins.')\n",
    "elif computer_value > 21:\n",
    "    print('\\nComputer busted! You win.')\n",
    "elif player_value > computer_value:\n",
    "    print('\\nYou win!')\n",
    "elif computer_value > player_value:\n",
    "    print('\\nComputer wins.')\n",
    "else:\n",
    "    print('\\nIt\\'s a tie!')"
   ]
  },
  {
   "cell_type": "code",
   "execution_count": 37,
   "id": "1b6f91c1-217e-4b33-b4bf-1e733fd1415d",
   "metadata": {},
   "outputs": [
    {
     "name": "stdin",
     "output_type": "stream",
     "text": [
      "Enter a number to find its prime factors:  34\n"
     ]
    },
    {
     "name": "stdout",
     "output_type": "stream",
     "text": [
      "The prime factors of 34 are: 2, 17\n"
     ]
    }
   ],
   "source": [
    "#40. Write a program that generates the prime factors of a given number using trial division.\n",
    "\n",
    "def prime_factors(n):\n",
    "    factors = []\n",
    "    divisor = 2\n",
    "\n",
    "    while n > 1:\n",
    "        while n % divisor == 0:\n",
    "            factors.append(divisor)\n",
    "            n //= divisor\n",
    "        divisor += 1\n",
    "\n",
    "    return factors\n",
    "\n",
    "\n",
    "num = int(input(\"Enter a number to find its prime factors: \"))\n",
    "\n",
    "if num < 2:\n",
    "    print(\"Prime factors are not defined for numbers less than 2.\")\n",
    "else:\n",
    "    factors = prime_factors(num)\n",
    "    \n",
    "    if len(factors) == 1:\n",
    "        print(f\"The prime factor of {num} is: {factors[0]}\")\n",
    "    else:\n",
    "        print(f\"The prime factors of {num} are: {', '.join(map(str, factors))}\")"
   ]
  }
 ],
 "metadata": {
  "kernelspec": {
   "display_name": "Python 3 (ipykernel)",
   "language": "python",
   "name": "python3"
  },
  "language_info": {
   "codemirror_mode": {
    "name": "ipython",
    "version": 3
   },
   "file_extension": ".py",
   "mimetype": "text/x-python",
   "name": "python",
   "nbconvert_exporter": "python",
   "pygments_lexer": "ipython3",
   "version": "3.10.8"
  }
 },
 "nbformat": 4,
 "nbformat_minor": 5
}
